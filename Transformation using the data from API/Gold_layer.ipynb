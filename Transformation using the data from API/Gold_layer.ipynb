{
 "cells": [
  {
   "cell_type": "code",
   "execution_count": 0,
   "metadata": {
    "application/vnd.databricks.v1+cell": {
     "cellMetadata": {
      "byteLimit": 2048000,
      "rowLimit": 10000
     },
     "inputWidgets": {},
     "nuid": "d1a58514-2552-4308-b5e8-0f2350f1b79d",
     "showTitle": false,
     "tableResultSettingsMap": {},
     "title": ""
    }
   },
   "outputs": [],
   "source": [
    "df_silver_clean=spark.read.format(\"delta\").load(\"/Volumes/api/api/processed_files/silver/\")"
   ]
  },
  {
   "cell_type": "code",
   "execution_count": 0,
   "metadata": {
    "application/vnd.databricks.v1+cell": {
     "cellMetadata": {
      "byteLimit": 2048000,
      "rowLimit": 10000
     },
     "inputWidgets": {},
     "nuid": "cc09bc47-f8d6-4451-8161-a2d8a36fb436",
     "showTitle": false,
     "tableResultSettingsMap": {},
     "title": ""
    }
   },
   "outputs": [],
   "source": [
    "df_gold_transparency = (\n",
    "    df_silver_clean.groupBy(\"is_trans\")\n",
    "    .count()\n",
    "    .withColumnRenamed(\"count\", \"color_count\")\n",
    ")\n"
   ]
  },
  {
   "cell_type": "code",
   "execution_count": 0,
   "metadata": {
    "application/vnd.databricks.v1+cell": {
     "cellMetadata": {
      "byteLimit": 2048000,
      "rowLimit": 10000
     },
     "inputWidgets": {},
     "nuid": "0d318269-a9a8-4998-abc1-0104c193d0ee",
     "showTitle": false,
     "tableResultSettingsMap": {},
     "title": ""
    }
   },
   "outputs": [],
   "source": [
    "from pyspark.sql.functions import *\n",
    "\n",
    "df_gold_external = df_silver_clean.select(\n",
    "    \"id\",\n",
    "    when(col(\"bricklink_id\").isNotNull(), 1).otherwise(0).alias(\"has_bricklink\"),\n",
    "    when(col(\"brickowl_id\").isNotNull(), 1).otherwise(0).alias(\"has_brickowl\"),\n",
    "    when(col(\"ldraw_id\").isNotNull(), 1).otherwise(0).alias(\"has_ldraw\"),\n",
    "    when(col(\"lego_id\").isNotNull(), 1).otherwise(0).alias(\"has_lego\"),\n",
    "    when(col(\"peeron_id\").isNotNull(), 1).otherwise(0).alias(\"has_peeron\")\n",
    ")\n",
    "\n",
    "df_gold_external_summary = df_gold_external.agg(\n",
    "    sum(\"has_bricklink\").alias(\"bricklink_mapped\"),\n",
    "    sum(\"has_brickowl\").alias(\"brickowl_mapped\"),\n",
    "    sum(\"has_ldraw\").alias(\"ldraw_mapped\"),\n",
    "    sum(\"has_lego\").alias(\"lego_mapped\"),\n",
    "    sum(\"has_peeron\").alias(\"peeron_mapped\")\n",
    ")\n"
   ]
  },
  {
   "cell_type": "code",
   "execution_count": 0,
   "metadata": {
    "application/vnd.databricks.v1+cell": {
     "cellMetadata": {
      "byteLimit": 2048000,
      "rowLimit": 10000
     },
     "inputWidgets": {},
     "nuid": "c0e39e4e-029c-4736-869c-38294ad7d464",
     "showTitle": false,
     "tableResultSettingsMap": {},
     "title": ""
    }
   },
   "outputs": [],
   "source": [
    "\n",
    "df_gold_transparency.write.format(\"delta\").mode(\"overwrite\").save(\"/Volumes/api/api/processed_files/gold/transparency_summary\")\n",
    "df_gold_external_summary.write.format(\"delta\").mode(\"overwrite\").save(\"/Volumes/api/api/processed_files/gold/external_mapping_summary\")"
   ]
  },
  {
   "cell_type": "code",
   "execution_count": 0,
   "metadata": {
    "application/vnd.databricks.v1+cell": {
     "cellMetadata": {
      "byteLimit": 2048000,
      "implicitDf": true,
      "rowLimit": 10000
     },
     "inputWidgets": {},
     "nuid": "4f20b3a2-b55a-4d40-8b46-a12fb11afc48",
     "showTitle": false,
     "tableResultSettingsMap": {},
     "title": ""
    }
   },
   "outputs": [],
   "source": [
    "%sql\n",
    "Select * from delta . `/Volumes/api/api/processed_files/gold/external_mapping_summary/`"
   ]
  },
  {
   "cell_type": "code",
   "execution_count": 0,
   "metadata": {
    "application/vnd.databricks.v1+cell": {
     "cellMetadata": {
      "byteLimit": 2048000,
      "implicitDf": true,
      "rowLimit": 10000
     },
     "inputWidgets": {},
     "nuid": "c70e2e94-b7c9-43c5-b2ff-ac1def4a7f7f",
     "showTitle": false,
     "tableResultSettingsMap": {},
     "title": ""
    }
   },
   "outputs": [],
   "source": [
    "%sql\n",
    "select * from delta. `/Volumes/api/api/processed_files/gold/transparency_summary/`"
   ]
  },
  {
   "cell_type": "code",
   "execution_count": 0,
   "metadata": {
    "application/vnd.databricks.v1+cell": {
     "cellMetadata": {},
     "inputWidgets": {},
     "nuid": "47a22536-66ef-49a6-a870-46318cf37e03",
     "showTitle": false,
     "tableResultSettingsMap": {},
     "title": ""
    }
   },
   "outputs": [],
   "source": []
  }
 ],
 "metadata": {
  "application/vnd.databricks.v1+notebook": {
   "computePreferences": null,
   "dashboards": [],
   "environmentMetadata": {
    "base_environment": "",
    "environment_version": "3"
   },
   "inputWidgetPreferences": null,
   "language": "python",
   "notebookMetadata": {
    "mostRecentlyExecutedCommandWithImplicitDF": {
     "commandId": 5993821823847479,
     "dataframes": [
      "_sqldf"
     ]
    },
    "pythonIndentUnit": 4
   },
   "notebookName": "Gold_layer",
   "widgets": {}
  },
  "language_info": {
   "name": "python"
  }
 },
 "nbformat": 4,
 "nbformat_minor": 0
}
