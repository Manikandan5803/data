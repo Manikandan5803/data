{
 "cells": [
  {
   "cell_type": "code",
   "execution_count": 0,
   "metadata": {
    "application/vnd.databricks.v1+cell": {
     "cellMetadata": {
      "byteLimit": 2048000,
      "rowLimit": 10000
     },
     "inputWidgets": {},
     "nuid": "42494705-405c-4e94-a73b-1233d1ce189e",
     "showTitle": false,
     "tableResultSettingsMap": {},
     "title": ""
    }
   },
   "outputs": [],
   "source": [
    "import requests\n",
    "import json\n",
    "import os\n",
    "\n",
    "# -----------------------------\n",
    "# Configuration\n",
    "# -----------------------------\n",
    "API_KEY = \"dcd52ea32d0f271100a28913e2b0d93b\"\n",
    "BASE_URL = \"https://rebrickable.com/api/v3/lego/colors/\"\n",
    "HEADERS = {\"Authorization\": f\"key {API_KEY}\"}\n",
    "\n",
    "# Folder path in Databricks volume\n",
    "output_folder = \"/Volumes/api/api/rawdata/\"\n",
    "os.makedirs(output_folder, exist_ok=True)\n",
    "\n",
    "# User-defined starting page\n",
    "start_page = 1  \n",
    "page_size = 10\n",
    "\n",
    "params = {\n",
    "    \"page\": start_page,\n",
    "    \"page_size\": page_size,\n",
    "    \"ordering\": \"ID\" \n",
    "}\n",
    "\n",
    "# -----------------------------\n",
    "# Fetch pages from start_page to the last page\n",
    "# -----------------------------\n",
    "page = start_page\n",
    "while True:\n",
    "    params[\"page\"] = page\n",
    "    response = requests.get(BASE_URL, headers=HEADERS, params=params)\n",
    "\n",
    "    if response.status_code != 200:\n",
    "        print(f\"Error fetching page {page}: {response.status_code}\")\n",
    "        break\n",
    "\n",
    "    data = response.json()\n",
    "\n",
    "    # Save JSON file for this page\n",
    "    file_path = os.path.join(output_folder, f\"colors_page{page}.json\")\n",
    "    with open(file_path, \"w\") as f:\n",
    "        json.dump(data, f, indent=4)\n",
    "\n",
    "    print(f\"Saved page {page} to {file_path}\")\n",
    "\n",
    "    # Stop if no next page\n",
    "    if not data.get(\"next\"):\n",
    "        break\n",
    "\n",
    "    page += 1\n",
    "\n",
    "print(\"All pages fetched and saved!\")\n"
   ]
  },
  {
   "cell_type": "code",
   "execution_count": 0,
   "metadata": {
    "application/vnd.databricks.v1+cell": {
     "cellMetadata": {},
     "inputWidgets": {},
     "nuid": "f09416e4-e8d2-4171-b99e-7942ffeba32b",
     "showTitle": false,
     "tableResultSettingsMap": {},
     "title": ""
    }
   },
   "outputs": [],
   "source": []
  }
 ],
 "metadata": {
  "application/vnd.databricks.v1+notebook": {
   "computePreferences": null,
   "dashboards": [],
   "environmentMetadata": {
    "base_environment": "",
    "environment_version": "3"
   },
   "inputWidgetPreferences": null,
   "language": "python",
   "notebookMetadata": {
    "pythonIndentUnit": 4
   },
   "notebookName": "Getting Data From API",
   "widgets": {}
  },
  "language_info": {
   "name": "python"
  }
 },
 "nbformat": 4,
 "nbformat_minor": 0
}
