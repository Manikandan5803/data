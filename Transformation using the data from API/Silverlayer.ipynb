{
 "cells": [
  {
   "cell_type": "code",
   "execution_count": 0,
   "metadata": {
    "application/vnd.databricks.v1+cell": {
     "cellMetadata": {
      "byteLimit": 2048000,
      "rowLimit": 10000
     },
     "inputWidgets": {},
     "nuid": "33109e93-826a-4920-9844-f43f36de1460",
     "showTitle": false,
     "tableResultSettingsMap": {},
     "title": ""
    }
   },
   "outputs": [],
   "source": [
    "from pyspark.sql.functions import col, explode, upper\n",
    "\n",
    "bronze_df = spark.read.format(\"delta\").load(\"/Volumes/api/api/processed_files/bronze/\")\n",
    "\n",
    "\n",
    "df_exploded = bronze_df.select(explode(\"results\").alias(\"color\"))\n",
    "\n",
    "\n",
    "df_silver = df_exploded.select(\n",
    "    col(\"color.id\").alias(\"id\"),\n",
    "    col(\"color.name\").alias(\"color_name\"),\n",
    "    col(\"color.rgb\").alias(\"rgb\"),\n",
    "    col(\"color.is_trans\").alias(\"is_trans\"),\n",
    "    \n",
    "    \n",
    "    col(\"color.external_ids.BrickLink.ext_ids\")[0].alias(\"bricklink_id\"),\n",
    "    col(\"color.external_ids.BrickLink.ext_descrs\")[0][0].alias(\"bricklink_name\"),\n",
    "    \n",
    "    \n",
    "    col(\"color.external_ids.BrickOwl.ext_ids\")[0].alias(\"brickowl_id\"),\n",
    "    col(\"color.external_ids.BrickOwl.ext_descrs\")[0][0].alias(\"brickowl_name\"),\n",
    "    \n",
    "    \n",
    "    col(\"color.external_ids.LDraw.ext_ids\")[0].alias(\"ldraw_id\"),\n",
    "    col(\"color.external_ids.LDraw.ext_descrs\")[0][0].alias(\"ldraw_name\"),\n",
    "    \n",
    "  \n",
    "    col(\"color.external_ids.LEGO.ext_ids\")[0].alias(\"lego_id\"),\n",
    "    col(\"color.external_ids.LEGO.ext_descrs\")[0][0].alias(\"lego_name\"),\n",
    "    \n",
    "    \n",
    "    col(\"color.external_ids.Peeron.ext_ids\")[0].alias(\"peeron_id\"),\n",
    "    col(\"color.external_ids.Peeron.ext_descrs\")[0][0].alias(\"peeron_name\")\n",
    ")\n",
    "\n",
    "\n",
    "df_silver_clean = (\n",
    "    df_silver\n",
    "    .filter(col(\"id\").isNotNull())       \n",
    "    .withColumn(\"rgb\", upper(col(\"rgb\"))) \n",
    ")\n",
    "\n",
    "\n",
    "\n",
    "df_silver_clean.write.format(\"delta\").mode(\"overwrite\").save(\"/Volumes/api/api/processed_files/silver\")\n",
    "\n",
    "print(\"Silver layer created successfully!\")\n"
   ]
  },
  {
   "cell_type": "code",
   "execution_count": 0,
   "metadata": {
    "application/vnd.databricks.v1+cell": {
     "cellMetadata": {
      "byteLimit": 2048000,
      "implicitDf": true,
      "rowLimit": 10000
     },
     "inputWidgets": {},
     "nuid": "656b09a0-0719-45b0-86bc-92b96ebf24dd",
     "showTitle": false,
     "tableResultSettingsMap": {},
     "title": ""
    }
   },
   "outputs": [],
   "source": [
    "%sql\n",
    "select * from delta . `/Volumes/api/api/processed_files/silver/`"
   ]
  },
  {
   "cell_type": "code",
   "execution_count": 0,
   "metadata": {
    "application/vnd.databricks.v1+cell": {
     "cellMetadata": {},
     "inputWidgets": {},
     "nuid": "14d3b660-4514-4ce3-a59b-af00731eea6c",
     "showTitle": false,
     "tableResultSettingsMap": {},
     "title": ""
    }
   },
   "outputs": [],
   "source": []
  }
 ],
 "metadata": {
  "application/vnd.databricks.v1+notebook": {
   "computePreferences": null,
   "dashboards": [],
   "environmentMetadata": {
    "base_environment": "",
    "environment_version": "3"
   },
   "inputWidgetPreferences": null,
   "language": "python",
   "notebookMetadata": {
    "mostRecentlyExecutedCommandWithImplicitDF": {
     "commandId": 4977353256698875,
     "dataframes": [
      "_sqldf"
     ]
    },
    "pythonIndentUnit": 4
   },
   "notebookName": "Silverlayer",
   "widgets": {}
  },
  "language_info": {
   "name": "python"
  }
 },
 "nbformat": 4,
 "nbformat_minor": 0
}
