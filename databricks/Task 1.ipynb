{
 "cells": [
  {
   "cell_type": "code",
   "execution_count": 0,
   "metadata": {
    "application/vnd.databricks.v1+cell": {
     "cellMetadata": {
      "byteLimit": 2048000,
      "rowLimit": 10000
     },
     "inputWidgets": {},
     "nuid": "4629b3cf-515e-4af8-9d48-e43797d3e885",
     "showTitle": false,
     "tableResultSettingsMap": {},
     "title": ""
    }
   },
   "outputs": [],
   "source": [
    "from pyspark.sql import functions as F\n",
    "from delta.tables import DeltaTable\n",
    "from datetime import datetime\n",
    "\n",
    "# Step 1 – Read config file\n",
    "config_path = \"/Volumes/practice/default/practice/config.csv\"\n",
    "config_df = spark.read.option(\"header\", \"true\").csv(config_path).collect()[0]\n",
    "\n",
    "file_path = config_df[\"loca\"]\n",
    "stage_table = config_df[\"tablename1\"]\n",
    "raw_table = config_df[\"tablename2\"]\n",
    "\n",
    "# Step 2 – Read source data from file path\n",
    "src_df = spark.read.option(\"header\", \"true\").csv(file_path)\n",
    "\n",
    "# Step 3 – Load into Stage Table (truncate + insert)\n",
    "src_df.write.mode(\"overwrite\").saveAsTable(stage_table)\n",
    "\n",
    "# Step 4 – Prepare for merge into Raw Table\n",
    "current_date = datetime.now().strftime(\"%d/%m/%Y\")\n",
    "\n",
    "stage_df = src_df.withColumn(\"last_updated_date\", F.lit(current_date))\n",
    "\n",
    "# Step 5 – Merge Stage into Raw Table\n",
    "if spark._jsparkSession.catalog().tableExists(raw_table):\n",
    "    raw_delta = DeltaTable.forName(spark, raw_table)\n",
    "    raw_delta.alias(\"raw\").merge(\n",
    "        stage_df.alias(\"stg\"),\n",
    "        \"raw.employee_id = stg.employee_id\"\n",
    "    ).whenMatchedUpdateAll(\n",
    "        set={\n",
    "            \"name\": \"stg.name\",\n",
    "            \"department\": \"stg.department\",\n",
    "            \"salary\": \"stg.salary\",\n",
    "            \"join_date\": \"stg.join_date\",\n",
    "            \"city\": \"stg.city\",\n",
    "            \"last_updated_date\": F.lit(current_date)\n",
    "        }\n",
    "    ).whenNotMatchedInsertAll().execute()\n",
    "else:\n",
    "    stage_df.write.mode(\"overwrite\").saveAsTable(raw_table)\n",
    "\n",
    "print(\"ETL process completed successfully.\")\n"
   ]
  },
  {
   "cell_type": "code",
   "execution_count": 0,
   "metadata": {
    "application/vnd.databricks.v1+cell": {
     "cellMetadata": {},
     "inputWidgets": {},
     "nuid": "6799789d-84f4-4768-a052-e950ded628e3",
     "showTitle": false,
     "tableResultSettingsMap": {},
     "title": ""
    }
   },
   "outputs": [],
   "source": []
  }
 ],
 "metadata": {
  "application/vnd.databricks.v1+notebook": {
   "computePreferences": {
    "hardware": {
     "accelerator": null,
     "gpuPoolId": null,
     "memory": null
    }
   },
   "dashboards": [],
   "environmentMetadata": {
    "base_environment": "",
    "environment_version": "2"
   },
   "inputWidgetPreferences": null,
   "language": "python",
   "notebookMetadata": {
    "pythonIndentUnit": 4
   },
   "notebookName": "Task 1",
   "widgets": {}
  },
  "language_info": {
   "name": "python"
  }
 },
 "nbformat": 4,
 "nbformat_minor": 0
}
