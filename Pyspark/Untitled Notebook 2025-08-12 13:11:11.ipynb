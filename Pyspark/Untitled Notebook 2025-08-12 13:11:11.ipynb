{
 "cells": [
  {
   "cell_type": "code",
   "execution_count": 0,
   "metadata": {
    "application/vnd.databricks.v1+cell": {
     "cellMetadata": {
      "byteLimit": 2048000,
      "rowLimit": 10000
     },
     "inputWidgets": {},
     "nuid": "5dabdfd1-4868-4089-96d3-2d81a30ce5e6",
     "showTitle": false,
     "tableResultSettingsMap": {},
     "title": ""
    }
   },
   "outputs": [],
   "source": [
    "from pyspark.sql import functions as F\n",
    "from delta.tables import DeltaTable\n",
    "from datetime import datetime\n",
    "\n",
    "# Step 1 – Read config\n",
    "config_df = spark.read.option(\"header\", \"true\").csv(\"/Volumes/practice/default/practice/employee.csv\").collect()[0]\n",
    "file_path = config_df[\"loca\"]\n",
    "stage_table = config_df[\"tablename1\"]\n",
    "raw_table = config_df[\"tablename2\"]\n",
    "\n",
    "# Step 2 – Read source data\n",
    "src_df = spark.read.option(\"header\", \"true\").csv(file_path)\n",
    "\n",
    "# Step 3 – Load into Stage (truncate)\n",
    "src_df.write.mode(\"overwrite\").saveAsTable(stage_table)\n",
    "\n",
    "# Step 4 – Prepare stage for merge (add update date)\n",
    "current_date = datetime.now().strftime(\"%d/%m\")\n",
    "stage_df = src_df.withColumn(\"last_updated_date\", F.lit(current_date))\n",
    "\n",
    "# Step 5 – Merge into Raw\n",
    "if spark._jsparkSession.catalog().tableExists(raw_table):\n",
    "    raw_delta = DeltaTable.forName(spark, raw_table)\n",
    "    raw_delta.alias(\"raw\").merge(\n",
    "        stage_df.alias(\"stg\"),\n",
    "        \"raw.name = stg.name\"\n",
    "    ).whenMatchedUpdate(\n",
    "        set={\"last_updated_date\": F.lit(current_date)}\n",
    "    ).whenNotMatchedInsertAll().execute()\n",
    "else:\n",
    "    stage_df.write.mode(\"overwrite\").saveAsTable(raw_table)\n",
    "\n",
    "print(\"ETL process completed successfully.\")\n"
   ]
  },
  {
   "cell_type": "code",
   "execution_count": 0,
   "metadata": {
    "application/vnd.databricks.v1+cell": {
     "cellMetadata": {},
     "inputWidgets": {},
     "nuid": "e5ae7a21-3ab1-400b-b1a1-c18d9523dc6f",
     "showTitle": false,
     "tableResultSettingsMap": {},
     "title": ""
    }
   },
   "outputs": [],
   "source": []
  }
 ],
 "metadata": {
  "application/vnd.databricks.v1+notebook": {
   "computePreferences": {
    "hardware": {
     "accelerator": null,
     "gpuPoolId": null,
     "memory": null
    }
   },
   "dashboards": [],
   "environmentMetadata": {
    "base_environment": "",
    "environment_version": "2"
   },
   "inputWidgetPreferences": null,
   "language": "python",
   "notebookMetadata": {
    "pythonIndentUnit": 4
   },
   "notebookName": "Untitled Notebook 2025-08-12 13:11:11",
   "widgets": {}
  },
  "language_info": {
   "name": "python"
  }
 },
 "nbformat": 4,
 "nbformat_minor": 0
}
