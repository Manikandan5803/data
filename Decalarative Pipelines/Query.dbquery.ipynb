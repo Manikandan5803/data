{
 "cells": [
  {
   "cell_type": "code",
   "execution_count": 0,
   "metadata": {
    "application/vnd.databricks.v1+cell": {
     "cellMetadata": {},
     "inputWidgets": {},
     "nuid": "1b4af1bb-20ec-4cb0-b68b-f5d4726aebd0",
     "showTitle": false,
     "tableResultSettingsMap": {},
     "title": ""
    }
   },
   "outputs": [],
   "source": [
    "CREATE TABLE orders\n",
    "(\n",
    "    order_id INT,\n",
    "    order_date DATE,\n",
    "    customer_id INT,\n",
    "    order_status STRING\n",
    ");\n",
    "\n",
    "INSERT INTO orders VALUES\n",
    "(1, '2025-09-11', 1, 'Completed'),\n",
    "(2, '2025-09-12', 2, 'Pending'), \n",
    "(3, '2025-09-13', 3, 'Cancelled'),\n",
    "(4, '2025-09-14', 4, 'Completed'),\n",
    "(5, '2025-09-15', 5, 'Pending');\n",
    "\n",
    "select * from orders\n"
   ]
  }
 ],
 "metadata": {
  "application/vnd.databricks.v1+notebook": {
   "computePreferences": null,
   "dashboards": [],
   "environmentMetadata": null,
   "inputWidgetPreferences": null,
   "language": "sql",
   "notebookMetadata": {
    "sqlQueryOptions": {
     "applyAutoLimit": true,
     "catalog": "dlt",
     "schema": "source"
    }
   },
   "notebookName": "Query.dbquery.ipynb",
   "widgets": {}
  },
  "language_info": {
   "name": "sql"
  }
 },
 "nbformat": 4,
 "nbformat_minor": 0
}
