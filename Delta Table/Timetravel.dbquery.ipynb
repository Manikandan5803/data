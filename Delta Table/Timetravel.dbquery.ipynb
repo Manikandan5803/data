{
 "cells": [
  {
   "cell_type": "code",
   "execution_count": 0,
   "metadata": {
    "application/vnd.databricks.v1+cell": {
     "cellMetadata": {},
     "inputWidgets": {},
     "nuid": "0262b8b2-a109-418e-8db3-850f73418072",
     "showTitle": false,
     "tableResultSettingsMap": {},
     "title": ""
    }
   },
   "outputs": [],
   "source": [
    "INSERT INTO demo_delta.sales (id, value, amount)\n",
    "VALUES (1, 'A', 100.0),\n",
    "       (2, 'B', 200.0);\n",
    "\n",
    "UPDATE demo_delta.sales\n",
    "SET amount = 150.0\n",
    "WHERE id = 1;\n",
    "\n",
    "\n",
    "SELECT * \n",
    "FROM demo_delta.sales VERSION AS OF 0;\n",
    "\n",
    "SELECT * \n",
    "FROM demo_delta.sales VERSION AS OF 1;\n",
    "\n",
    "SELECT * \n",
    "FROM demo_delta.sales TIMESTAMP AS OF '2025-09-22 16:00:00';\n"
   ]
  }
 ],
 "metadata": {
  "application/vnd.databricks.v1+notebook": {
   "computePreferences": null,
   "dashboards": [],
   "environmentMetadata": null,
   "inputWidgetPreferences": null,
   "language": "sql",
   "notebookMetadata": {
    "sqlQueryOptions": {
     "applyAutoLimit": true,
     "catalog": "workspace",
     "schema": "default"
    }
   },
   "notebookName": "Timetravel.dbquery.ipynb",
   "widgets": {}
  },
  "language_info": {
   "name": "sql"
  }
 },
 "nbformat": 4,
 "nbformat_minor": 0
}
