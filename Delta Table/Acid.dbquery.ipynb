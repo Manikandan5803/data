{
 "cells": [
  {
   "cell_type": "code",
   "execution_count": 0,
   "metadata": {
    "application/vnd.databricks.v1+cell": {
     "cellMetadata": {},
     "inputWidgets": {},
     "nuid": "cd74afa7-6601-4300-9872-aa33f87bca5e",
     "showTitle": false,
     "tableResultSettingsMap": {},
     "title": ""
    }
   },
   "outputs": [],
   "source": [
    "CREATE TABLE IF NOT EXISTS demo_delta.sales_csv\n",
    "USING DELTA\n",
    "AS\n",
    "SELECT * FROM csv.`/tmp/sample_sales.csv`;\n",
    "INSERT INTO demo_delta.sales (id, value, amount)\n",
    "VALUES (1, 'A', 100.0),\n",
    "       (2, 'B', 200.0);\n",
    "\n",
    "UPDATE demo_delta.sales\n",
    "SET amount = amount * 1.1\n",
    "WHERE value = 'A';\n",
    "DELETE FROM demo_delta.sales\n",
    "WHERE value = 'B';\n",
    "\n",
    "\n",
    "\n",
    "BEGIN TRANSACTION;\n",
    "\n",
    "INSERT INTO demo_delta.sales (id, value, amount)\n",
    "VALUES (3, 'C', 300.0);\n",
    "\n",
    "UPDATE demo_delta.sales\n",
    "SET amount = amount + 50\n",
    "WHERE value = 'A';\n",
    "\n",
    "COMMIT;\n"
   ]
  }
 ],
 "metadata": {
  "application/vnd.databricks.v1+notebook": {
   "computePreferences": null,
   "dashboards": [],
   "environmentMetadata": null,
   "inputWidgetPreferences": null,
   "language": "sql",
   "notebookMetadata": {
    "sqlQueryOptions": {
     "applyAutoLimit": true,
     "catalog": "workspace",
     "schema": "default"
    }
   },
   "notebookName": "Acid.dbquery.ipynb",
   "widgets": {}
  },
  "language_info": {
   "name": "sql"
  }
 },
 "nbformat": 4,
 "nbformat_minor": 0
}
