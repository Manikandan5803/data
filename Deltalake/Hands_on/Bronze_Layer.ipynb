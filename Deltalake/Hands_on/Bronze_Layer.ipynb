{
 "cells": [
  {
   "cell_type": "code",
   "execution_count": 0,
   "metadata": {
    "application/vnd.databricks.v1+cell": {
     "cellMetadata": {},
     "inputWidgets": {},
     "nuid": "66a21aae-4db4-42bc-977b-d9140e4f8ea1",
     "showTitle": false,
     "tableResultSettingsMap": {},
     "title": ""
    }
   },
   "outputs": [],
   "source": [
    "files = \"/Volumes/practice/practice/rawdata\"  \n",
    "bronze_path = \"/Volumes/practice/practice/processed_files/bronze\"  \n",
    "daily_files = [f.path for f in dbutils.fs.ls(files) if f.path.endswith(\".csv\")]\n",
    "for file in daily_files:\n",
    "    df = spark.read.format(\"csv\") .option(\"header\", \"true\").option(\"inferSchema\", \"true\") .load(file)  \n",
    "    df.write.format(\"delta\").mode(\"append\").save(bronze_path)"
   ]
  }
 ],
 "metadata": {
  "application/vnd.databricks.v1+notebook": {
   "computePreferences": null,
   "dashboards": [],
   "environmentMetadata": {
    "base_environment": "",
    "environment_version": "3"
   },
   "inputWidgetPreferences": null,
   "language": "python",
   "notebookMetadata": {
    "pythonIndentUnit": 4
   },
   "notebookName": "Bronze_Layer",
   "widgets": {}
  },
  "language_info": {
   "name": "python"
  }
 },
 "nbformat": 4,
 "nbformat_minor": 0
}
