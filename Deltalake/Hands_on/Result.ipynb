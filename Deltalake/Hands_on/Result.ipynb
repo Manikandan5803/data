{
 "cells": [
  {
   "cell_type": "code",
   "execution_count": 0,
   "metadata": {
    "application/vnd.databricks.v1+cell": {
     "cellMetadata": {},
     "inputWidgets": {},
     "nuid": "c4209589-1dcc-48d5-8e6d-5c58f2801213",
     "showTitle": false,
     "tableResultSettingsMap": {},
     "title": ""
    }
   },
   "outputs": [],
   "source": [
    "\n",
    "bronze_path = \"/Volumes/practice/practice/processed_files/bronze\"\n",
    "df_bronze = spark.read.format(\"delta\").load(bronze_path)\n",
    "df_bronze.display()\n",
    "\n",
    "silver_path = \"/Volumes/practice/practice/processed_files/silver\"\n",
    "df_silver = spark.read.format(\"delta\").load(silver_path)\n",
    "df_silver.display()\n",
    "\n",
    "\n",
    "gold_path = \"/Volumes/practice/practice/processed_files/gold\"\n",
    "df_gold = spark.read.format(\"delta\").load(gold_path)\n",
    "df_gold.display()"
   ]
  },
  {
   "cell_type": "code",
   "execution_count": 0,
   "metadata": {
    "application/vnd.databricks.v1+cell": {
     "cellMetadata": {},
     "inputWidgets": {},
     "nuid": "7940f98e-b454-4040-9c48-09ec6d5dc1fb",
     "showTitle": false,
     "tableResultSettingsMap": {},
     "title": ""
    }
   },
   "outputs": [],
   "source": []
  }
 ],
 "metadata": {
  "application/vnd.databricks.v1+notebook": {
   "computePreferences": null,
   "dashboards": [],
   "environmentMetadata": {
    "base_environment": "",
    "environment_version": "3"
   },
   "inputWidgetPreferences": null,
   "language": "python",
   "notebookMetadata": {
    "pythonIndentUnit": 4
   },
   "notebookName": "Result",
   "widgets": {}
  },
  "language_info": {
   "name": "python"
  }
 },
 "nbformat": 4,
 "nbformat_minor": 0
}
